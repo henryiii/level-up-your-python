{
 "cells": [
  {
   "cell_type": "markdown",
   "metadata": {},
   "source": [
    "# Level Up Your Python\n",
    "\n",
    "A course in _intermediate_ Python for a beginner ready to move up. [Binder version](https://mybinder.org/v2/gh/henryiii/level-up-your-python/main?urlpath=lab/tree/notebooks/0%20Intro.ipynb) and [Live WebAssembly version available too!](https://henryiii.github.io/level-up-your-python/live)\n",
    "\n",
    "**Henry Schreiner**\n"
   ]
  },
  {
   "cell_type": "code",
   "execution_count": null,
   "metadata": {
    "tags": [
     "remove-cell"
    ]
   },
   "outputs": [],
   "source": [
    "# WebAssembly version using Pyodide!\n",
    "# The following code is specific to the Pyodide backend.\n",
    "\n",
    "import sys\n",
    "\n",
    "if sys.platform.startswith(\"emscripten\"):\n",
    "    import micropip\n",
    "\n",
    "    await micropip.install(\"rich\")"
   ]
  },
  {
   "cell_type": "markdown",
   "metadata": {},
   "source": [
    "## Introduction\n",
    "\n",
    "### Expected Knowledge\n",
    "\n",
    "You should already know:\n",
    "\n",
    "* Basic Python syntax\n",
    "* Functions\n",
    "* Basic classes (will cover advanced usages mostly)\n",
    "* Basic NumPy (will mention, but not cover)\n",
    "* Git - _CRITICAL FOR ANY SOFTWARE WORK!_\n",
    "\n",
    "And we will be using notebooks in JupyterLab."
   ]
  },
  {
   "cell_type": "markdown",
   "metadata": {},
   "source": [
    "## About the author\n",
    "\n",
    "[![Henryiii's github stats](https://github-readme-stats.vercel.app/api?username=henryiii)](https://github.com/anuraghazra/github-readme-stats)\n",
    "\n",
    "Most important link: <https://iscinumpy.dev>\n",
    "\n",
    "[PyPA](https://github.com/pypa) member. [Scikit-HEP](https://scikit-hep.org) admin, [scikit-build](https://github.com/scikit-build) admin, member of [IRIS-HEP](https://iris-hep.org).\n",
    "\n",
    "### Projects\n",
    "\n",
    "[pybind11](https://pybind11.readthedocs.io) &bullet;\n",
    "[cibuildwheel](https://cibuildwheel.readthedocs.io) &bullet;\n",
    "[build](https://pypa-build.readthedocs.io) &bullet;\n",
    "[scikit-build](https://github.com/scikit-build) &bullet;\n",
    "[boost-histogram](https://github.com/scikit-hep/boost-histogram) &bullet;\n",
    "[Hist](https://github.com/scikit-hep/hist) &bullet;\n",
    "[UHI](https://github.com/scikit-hep/uhi) &bullet;\n",
    "[Vector](https://github.com/scikit-hep/vector) &bullet;\n",
    "[CLI11](https://github.com/CLIUtils/CLI11) &bullet;\n",
    "[Plumbum](https://plumbum.readthedocs.io/en/latest) &bullet;\n",
    "[GooFit](https://github.com/GooFit/GooFit) &bullet;\n",
    "[Particle](https://github.com/scikit-hep/particle) &bullet;\n",
    "[DecayLanguage](https://github.com/scikit-hep/decaylanguage) &bullet;\n",
    "[Conda-Forge&nbsp;ROOT](https://github.com/conda-forge/root-feedstock) &bullet;\n",
    "[POVM](https://github.com/Princeton-Penn-Vents/princeton-penn-flowmeter) &bullet;\n",
    "[Jekyll-Indico](https://github.com/iris-hep/jekyll-indico)\n",
    "\n",
    "### Interests:\n",
    "\n",
    "Packaging and building • Bindings • Building a HEP analysis toolchain in Python, JITable\n",
    "\n",
    "\n",
    "#### My books and workshops\n",
    "[Modern&nbsp;CMake](https://cliutils.gitlab.io/modern-cmake/) &bullet;\n",
    "[CMake&nbsp;Workshop](https://hsf-training.github.io/hsf-training-cmake-webpage/) &bullet;\n",
    "[Computational Physics Class](https://henryiii.github.io/compclass) &bullet;\n",
    "Python [CPU](https://github.com/henryiii/python-performance-minicourse),\n",
    "[GPU](https://github.com/henryiii/pygpu-minicourse),\n",
    "[Compiled](https://github.com/henryiii/python-compiled-minicourse) minicourses\n"
   ]
  },
  {
   "cell_type": "markdown",
   "metadata": {},
   "source": [
    "## Tempering your expectations\n",
    "\n",
    "### What can you expect?\n",
    "\n",
    "* I don't know what you know;\n",
    "* We don't have time to study any topic in depth.\n",
    "\n",
    "So, we will move _fast_, and cover a _lot_.\n",
    "\n",
    "You are not expected to able to master everything you see.\n",
    "\n",
    "### Instead, you are expected to:\n",
    "\n",
    "1. Know what is possible, so you know to look for it;\n",
    "2. Get pointers on where to look (lots of links!);\n",
    "3. Refer back to this material later."
   ]
  },
  {
   "cell_type": "markdown",
   "metadata": {},
   "source": [
    "## Theory: New features in programming\n",
    "\n",
    "Programming is all about _organization_. This is not always obvious, and has some odd consequences. Let's look at one: **new features remove functionality from the user**. And that's a good thing.\n",
    "\n",
    "Don't believe me? Pick one. Let's go with an old, simple one you should already know: `goto` vs. loops (`for`/`while`). (This is my favorite example, even though Python thankfully came along late enough to not even have `goto` in the first place, except as [an April fools joke](http://entrian.com/goto/) or [a proof of concept library](https://pypi.org/project/goto-statement/).)\n",
    "\n",
    "\n",
    "You have total power with goto! Jump from anywhere, to anywhere! You can recreate all loops (for loops, for each loops, while loops, do while (C) loops) with it, and more (like functions)! So why are loops the newer, better feature?"
   ]
  },
  {
   "cell_type": "markdown",
   "metadata": {},
   "source": [
    "**goto ([partially hypothetical](https://github.com/snoack/python-goto) in Python)**\n",
    "```python\n",
    "i = 0\n",
    "label .start\n",
    "print(f\"Hi {i}\")\n",
    "i + 1\n",
    "if i <= 10:\n",
    "    goto .start\n",
    "```"
   ]
  },
  {
   "cell_type": "markdown",
   "metadata": {},
   "source": [
    "**Compare to for loop:**\n",
    "    "
   ]
  },
  {
   "cell_type": "code",
   "execution_count": null,
   "metadata": {},
   "outputs": [],
   "source": [
    "for i in range(10):\n",
    "    print(f\"Hi {i}\")"
   ]
  },
  {
   "cell_type": "markdown",
   "metadata": {},
   "source": [
    "A programmer has to spend time to recognize what is happening in the first example - in the second example, even a fairly new Python programmer will immediately say \"that prints 0 to 9\". The second example lets you build more complex programs, because you are working at a 'higher level', humans tend to do better which high level concepts (while computers work up from low level).\n",
    "\n",
    "Also, we now need several features to make up for the loss of goto; the for loop, the while loop, and functions. Each is more restricted, with less functionality, but better readability and composability.\n",
    "\n",
    "![GOTO xkcd comic](https://imgs.xkcd.com/comics/goto.png)\n",
    "\n",
    "We will see lots of examples of this -- in section 2, especially."
   ]
  },
  {
   "cell_type": "markdown",
   "metadata": {},
   "source": [
    "## Notebooks\n",
    "\n",
    "We will be using notebooks today. Notebooks are fantastic for teaching, quick experimentation, for developing, or for driving a final analysis product. They are not for serious programming - that happens in `.py` files. Once you write something and get it working, move it to a `.py` file and add a test. Then import it into your notebook!"
   ]
  },
  {
   "cell_type": "markdown",
   "metadata": {},
   "source": [
    "## Python version\n",
    "\n",
    "We will be using Python 3.11. I'll try to point out when something is newer than 3.8. [NEP 29](https://numpy.org/neps/nep-0029-deprecation_policy.html) mandates that data science libraries currently support 3.9+ (support dropped 42 months after release), while [general Python EOL is 3.8+](https://endoflife.date/python) (5 year support window). IPython and NumPy have already dropped Python 3.8.\n",
    "\n",
    "Key upcoming dates:\n",
    "\n",
    "| Python         | Release      | NEP 29 drop  | General EOL  |\n",
    "|----------------|--------------|--------------|--------------|\n",
    "| ~~Python 3.7~~ | ~~Jun 2018~~ | ~~Dec 2021~~ | ~~Jun 2023~~ |\n",
    "| Python 3.8     |   Oct 2019   | ~~Apr 2023~~ |   Oct 2024   |\n",
    "| Python 3.9     |   Oct 2020   |   Apr 2024   |   Oct 2025   |\n",
    "| Python 3.10    |   Oct 2021   |   Apr 2025   |   Oct 2026   |\n",
    "| Python 3.11    |   Oct 2022   |   Apr 2026   |   Oct 2027   |\n",
    "| Python 3.12    |   Oct 2023   |   Apr 2027   |   Oct 2028   |\n",
    "| Python 3.X     |   Oct 2011+X |   Apr 2015+X |   Oct 2016+X |\n",
    "\n",
    "Since Python 3.8, Python releases yearly, so you can expect a new Python release every October, and an EOL every December (April a year before for data science).\n",
    "\n",
    "Note that SPEC 0 seems to be replacing NEP 29, and it has an even shorter support cycle, 36 months. So releases get dropped in October three years after they debut."
   ]
  },
  {
   "cell_type": "markdown",
   "metadata": {},
   "source": [
    "## Extra: saving and running a file from Jupyter\n",
    "\n",
    "For teaching purposes, we will be running some tools (pytest and mypy) from notebooks; this is not what they were designed to do, so we will use the following small extension to save a cell to a file and then run it with a Python module. I'm using a third-party library, `rich`, to render this with nice syntax highlighting in the notebook."
   ]
  },
  {
   "cell_type": "code",
   "execution_count": null,
   "metadata": {},
   "outputs": [],
   "source": [
    "import rich\n",
    "from rich.syntax import Syntax\n",
    "from pathlib import Path\n",
    "\n",
    "filepath = Path(\"save_and_run.py\")\n",
    "rich.print(Syntax(filepath.read_text(), \"python\", theme=\"default\"))"
   ]
  }
 ],
 "metadata": {
  "kernelspec": {
   "display_name": "conda-env-level-up-your-python-py",
   "language": "python",
   "name": "conda-env-level-up-your-python-py"
  },
  "language_info": {
   "codemirror_mode": {
    "name": "ipython",
    "version": 3
   },
   "file_extension": ".py",
   "mimetype": "text/x-python",
   "name": "python",
   "nbconvert_exporter": "python",
   "pygments_lexer": "ipython3",
   "version": "3.10.5"
  },
  "toc-autonumbering": false,
  "toc-showmarkdowntxt": false,
  "toc-showtags": false
 },
 "nbformat": 4,
 "nbformat_minor": 4
}

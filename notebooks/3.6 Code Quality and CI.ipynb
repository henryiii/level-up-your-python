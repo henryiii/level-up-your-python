{
 "cells": [
  {
   "cell_type": "markdown",
   "metadata": {},
   "source": [
    "# Code Quality and CI"
   ]
  },
  {
   "cell_type": "markdown",
   "metadata": {},
   "source": [
    "For more information, please see the [Scientific Python Development Guidelines](https://learn.scientific-python.org/development), which covers this in much more detail!"
   ]
  },
  {
   "cell_type": "markdown",
   "metadata": {},
   "source": [
    "## Pre-commit"
   ]
  },
  {
   "cell_type": "markdown",
   "metadata": {},
   "source": [
    "One of my favorite tools is [pre-commit](https://pre-commit.com). It allows you to drive almost any \"fixer\" or \"linter\" available, all from one place. It handles environments and caching and even updates for you.\n",
    "\n",
    "To configure, add a `.pre-commit-config.yaml` file like this:\n",
    "\n",
    "```yaml\n",
    "repos:\n",
    "# Some \"common\" checks useful for almost any repo\n",
    "- repo: https://github.com/pre-commit/pre-commit-hooks\n",
    "  rev: v4.4.0\n",
    "  hooks:\n",
    "  - id: check-added-large-files\n",
    "  - id: check-case-conflict\n",
    "  - id: check-merge-conflict\n",
    "  - id: check-symlinks\n",
    "  - id: check-yaml\n",
    "  - id: debug-statements\n",
    "  - id: end-of-file-fixer\n",
    "  - id: mixed-line-ending\n",
    "  - id: requirements-txt-fixer\n",
    "  - id: trailing-whitespace\n",
    "\n",
    "# Automatically format Python code\n",
    "- repo: https://github.com/psf/black\n",
    "  rev: \"23.7.0\"\n",
    "  hooks:\n",
    "  - id: black\n",
    "```\n",
    "\n",
    "The file has a list of repos (local checks can be written too). Each repo contains pre-commit hooks that you can run and configure. You should put modifying \"fixer\" checks before the \"linter\" checks, just in case they fix something that then gets linted."
   ]
  },
  {
   "cell_type": "markdown",
   "metadata": {},
   "source": [
    "You can install pre-commit from `brew` (macOS), or via `pipx`/`pip` for anything with Python.\n",
    "\n",
    "You can then run it like this:\n",
    "\n",
    "```bash\n",
    "pre-commit run -a\n",
    "```\n",
    "\n",
    "That will check everything. You don't need to know anything about how to run the checkers or linters, it's a single standard interface for all projects. Each hook gets a unique, cached environment, so the next time you run it, it's lightning fast. If you leave off the `-a`, it _only checks the changed files in your staging area, even partially staged ones!_.\n",
    "\n",
    "If you want to update to the latest versions of all your hooks, run:\n",
    "\n",
    "```bash\n",
    "pre-commit autoupdate\n",
    "```\n",
    "\n",
    "If you want to use it in the namesake \"pre-commit\" mode, then run:\n",
    "\n",
    "```bash\n",
    "pre-commit install\n",
    "```\n",
    "\n",
    "Now it runs before every commit, and you'll never check in \"bad\" code again! Use `-n` to skip the pre-commit check when committing for emergencies.\n",
    "\n",
    "One of the recent exciting advancements is <https://pre-commit.ci>, where you can just add your repo to the GitHub list, and then you get your PRs autocorrected and checked, and you get weekly update PRs to your config!\n",
    "\n",
    "PS: This is generally not used for pytest (though it could be), since tests are generally slower and take more setup, including being installed properly."
   ]
  },
  {
   "cell_type": "markdown",
   "metadata": {},
   "source": [
    "## CI: GitHub Actions"
   ]
  },
  {
   "cell_type": "markdown",
   "metadata": {},
   "source": [
    "One of the most important aspect of good code is Continuous Integration (CI); every change should be tested and ideally not allowed to be merged unless it passes. If you support multiple versions of Python or OSs, you should test on each of them. CI lets you do this, and other contributors get the benefit too; if you have good tests you can feel comfortable about making and accepting changes.\n",
    "\n",
    "There are many services, but the most popular and possibly one of the best designed ones is GitHub Actions. It is really easy to setup, doesn't require extra permissions or accounts, and runs 10(!) parallel jobs, and supports all three OSs, often with the same code, and is highly modular. This is what a simple job would look like:\n",
    "\n",
    "`.github/workflows/ci.yml`:\n",
    "\n",
    "```yaml\n",
    "name: Python tests\n",
    "\n",
    "on: [push]\n",
    "\n",
    "jobs:\n",
    "  build:\n",
    "    runs-on: ${{ matrix.runs-on }}\n",
    "    strategy:\n",
    "      matrix:\n",
    "        python-version: [\"3.8\", \"3.11\"]\n",
    "        runs-on: [ubuntu-latest, macos-latest, windows-latest]\n",
    "\n",
    "    steps:\n",
    "    - uses: actions/checkout@v3\n",
    "    \n",
    "    - name: actions/setup-python@v4\n",
    "      with:\n",
    "        python-version: ${{ matrix.python-version }}\n",
    "        \n",
    "    - name: Install with dev requirements\n",
    "      run: pip install .[dev]\n",
    "\n",
    "    - name: Test with pytest\n",
    "      run: pytest\n",
    "```\n",
    "\n",
    "That's it, 6 jobs run and test your code!"
   ]
  },
  {
   "cell_type": "markdown",
   "metadata": {},
   "source": [
    "* [Official docs](https://docs.github.com/en/actions/guides/building-and-testing-python) are good\n",
    "* [Scientific Python Development Guidelines - GHA](https://learn.scientific-python.org/development/guides/gha-basic) has some good help, too!\n",
    "\n",
    "CI is not just for tests! You can use it for deploying static websites, for building binaries for distribution, for making releases, for compiling documents or documentation, for monitoring things at a regular interval, for automating tasks and making PRs, and much, much more! You can have as many workflows or jobs in a workflow as you want (up to 255).\n",
    "\n",
    "If you are on GitLab, GitLab CI is excellent too, just not quite as modular.\n",
    "\n",
    "The website for this course is built in GHA. Can you find the config for it?"
   ]
  },
  {
   "cell_type": "markdown",
   "metadata": {},
   "source": [
    "## Quick package construction: Cookiecutter\n",
    "\n",
    "If you want to set up a project fast, you can use cookiecutter, a Python application (as usual, install with `brew` on macOS or `pipx`/`pip` elsewhere). Then you can stamp out a new package based on online templates. If you are following the [Scientific Python Development Guidelines](https://learn.scientific-python.org/development), then run:\n",
    "\n",
    "```bash\n",
    "cookiecutter gh:scientific-python/cookie\n",
    "```\n",
    "\n",
    "Answer a few questions, then you get a working package with CI and strict style checking in one of around a dozen backends, including C++ pybind11 with cibuildwheel wheels!"
   ]
  }
 ],
 "metadata": {
  "kernelspec": {
   "display_name": "conda-env-level-up-your-python-py",
   "language": "python",
   "name": "conda-env-level-up-your-python-py"
  },
  "language_info": {
   "codemirror_mode": {
    "name": "ipython",
    "version": 3
   },
   "file_extension": ".py",
   "mimetype": "text/x-python",
   "name": "python",
   "nbconvert_exporter": "python",
   "pygments_lexer": "ipython3",
   "version": "3.10.5"
  }
 },
 "nbformat": 4,
 "nbformat_minor": 4
}

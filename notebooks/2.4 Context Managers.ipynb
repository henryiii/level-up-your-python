{
 "cells": [
  {
   "cell_type": "markdown",
   "metadata": {},
   "source": [
    "# Context Managers\n",
    "\n",
    "Yes! Our journey is complete, we are where I wanted to be. Context managers are one of my favorites, and a little underused, especially in user code, when they are really easy to both write and use (while decorators, for comparison, are really easy to use but a bit tricky to write). A context manager has a specific purpose.\n",
    "\n",
    "A context manager is used for what I call \"action at a distance\". It lets you schedule an action for later that is sure to always happen (unless you get a segfault, or exit a really nasty way). This is likely the most famous context manager:\n",
    "\n",
    "```python\n",
    "with open(...) as f:\n",
    "    txt = f.readlines()\n",
    "```\n",
    "\n",
    "When you enter the with block, `__enter__` is called and the result is assigned to the `as` target, if there is one. Then when you leave the block, `__exit__` is called. If you leave via an exception, `__exit__` gets special arguments that let you even decide what to do based on that the exception is - or even handle the exception and continue. `contextlib` has several simple context managers, like `redirect_stdout`, `redirect_stderr`, and `suppress`:"
   ]
  },
  {
   "cell_type": "code",
   "execution_count": null,
   "metadata": {},
   "outputs": [],
   "source": [
    "import contextlib"
   ]
  },
  {
   "cell_type": "code",
   "execution_count": null,
   "metadata": {},
   "outputs": [],
   "source": [
    "with contextlib.suppress(ZeroDivisionError):\n",
    "    1 / 0\n",
    "    print(\"This is never reached\")"
   ]
  },
  {
   "cell_type": "markdown",
   "metadata": {},
   "source": [
    "But the real star of contextlib is `contextmanager`, which is a decorator that makes writing context managers really easy. You use \"yield\" to break the before and after code. Let's try one of my favorites, a timer context manager:"
   ]
  },
  {
   "cell_type": "code",
   "execution_count": null,
   "metadata": {},
   "outputs": [],
   "source": [
    "import time\n",
    "\n",
    "\n",
    "@contextlib.contextmanager\n",
    "def timer():\n",
    "    old_time = time.monotonic()\n",
    "    try:\n",
    "        yield\n",
    "    finally:\n",
    "        new_time = time.monotonic()\n",
    "        print(f\"Time taken: {new_time - old_time} seconds\")"
   ]
  },
  {
   "cell_type": "code",
   "execution_count": null,
   "metadata": {},
   "outputs": [],
   "source": [
    "with timer():\n",
    "    print(\"Start\")\n",
    "    time.sleep(1.5)\n",
    "    print(\"End\")"
   ]
  },
  {
   "cell_type": "markdown",
   "metadata": {},
   "source": [
    "As an extra bonus, `contextmanager` uses `ContextDecorator`, so the objects it makes can also be used as Decorators!"
   ]
  },
  {
   "cell_type": "code",
   "execution_count": null,
   "metadata": {},
   "outputs": [],
   "source": [
    "@timer()\n",
    "def long_function():\n",
    "    print(\"Start\")\n",
    "    time.sleep(1.5)\n",
    "    print(\"End\")\n",
    "\n",
    "\n",
    "long_function()"
   ]
  },
  {
   "cell_type": "markdown",
   "metadata": {},
   "source": [
    "**Just a quick word on this**: if you are coming from a language like JavaScript or Ruby, you might be thinking these look like blocks/Procs/lambdas. They are not; they are unscoped, and you cannot access the code inside the with block from the context manager (unlike a decorator, too). So you cannot create a \"run this twice\" context manager, for example. They are only for action-at-a-distance."
   ]
  },
  {
   "cell_type": "markdown",
   "metadata": {},
   "source": [
    "[Pretty much everything](https://docs.python.org/3/library/contextlib.html) in the `contextlib` module that does not have the word `async` in it is worth learning. `contextlib.closing` turns an object with a `.close()` into a context manager, and `contextlib.ExitStack` lets you nest context managers without eating up massive amounts of whitespace."
   ]
  },
  {
   "cell_type": "markdown",
   "metadata": {},
   "source": [
    "## Quick note: Async\n",
    "\n",
    "Everything we've been doing has built on itself, and we seemed to be going somewhere; the pinnacle of this direction was actually not context managers, but `async/await`. All of this feeds into `async/await`, which was formally introduced as a language component in Python 3.6. However, we did skip a necessary step; we didn't talk about generators (iterators can actually \"send\" values in, not just produce them, but there's no specific construct for doing that, like there is for consuming values in a for loop). The main reason we didn't try to reach `async` though is that I've never found a great use for it in scientific programming; it is much more intrusive than normal threading, it doesn't really \"live\" side-by-side with normal synchronous programming all that well (it's better now, though), and the libraries for it are a little young. Feel free to investigate on your own, though! I've also discussed the mechanisms behind it in detail in my blog a few years ago."
   ]
  },
  {
   "cell_type": "markdown",
   "metadata": {},
   "source": [
    "Let's whet your appetite with a quick example, though:"
   ]
  },
  {
   "cell_type": "code",
   "execution_count": null,
   "metadata": {},
   "outputs": [],
   "source": [
    "import asyncio\n",
    "\n",
    "\n",
    "# This is an \"async\" function, like a generator\n",
    "async def slow(t: int) -> int:\n",
    "    print(f\"About to sleep for {t} seconds\")\n",
    "    await asyncio.sleep(t)\n",
    "    print(f\"Slept for {t} seconds\")\n",
    "    return t\n",
    "\n",
    "\n",
    "# Gather runs its arguments in parallel when awaited on\n",
    "await asyncio.gather(slow(3), slow(1), slow(2))\n",
    "\n",
    "# Only works if running in an eventloop already, like IPython or with python -m asyncio\n",
    "# Otherwise, use: asyncio.run(...)"
   ]
  },
  {
   "cell_type": "markdown",
   "metadata": {},
   "source": [
    "Notice _there are no locks_! We don't have to worry about printing being overleaved, because it's not running at the same time. Only the explicit \"await\" lines \"wait\" at the same time!"
   ]
  },
  {
   "cell_type": "markdown",
   "metadata": {},
   "source": [
    "Once we start using Python 3.11 (probably early-mid 2023, based on Pyodide), an asyncio section using TaskGroups will likely be added."
   ]
  }
 ],
 "metadata": {
  "kernelspec": {
   "display_name": "Python [conda env:level-up-your-python] *",
   "language": "python",
   "name": "conda-env-level-up-your-python-py"
  },
  "language_info": {
   "codemirror_mode": {
    "name": "ipython",
    "version": 3
   },
   "file_extension": ".py",
   "mimetype": "text/x-python",
   "name": "python",
   "nbconvert_exporter": "python",
   "pygments_lexer": "ipython3",
   "version": "3.10.5"
  },
  "toc-autonumbering": false,
  "toc-showmarkdowntxt": false,
  "toc-showtags": false
 },
 "nbformat": 4,
 "nbformat_minor": 4
}

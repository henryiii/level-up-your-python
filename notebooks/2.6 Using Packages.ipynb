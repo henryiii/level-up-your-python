{
 "cells": [
  {
   "cell_type": "markdown",
   "metadata": {},
   "source": [
    "# Using packages"
   ]
  },
  {
   "cell_type": "markdown",
   "metadata": {},
   "source": [
    "When you are programming, usually you are solving a problem - the programming is simply a means to an end. If that's the case, then packaging is a means to a means to an end."
   ]
  },
  {
   "cell_type": "markdown",
   "metadata": {},
   "source": [
    "Packaging is of my favorite subjects, because it's absolutely critical as soon as you:\n",
    "\n",
    "* Work on more than one thing\n",
    "* Share your work with anyone (even if not as a package)\n",
    "* Work in more than one place\n",
    "* Upgrade or change anything on your computer\n",
    "\n",
    "Unfortunately, packing has a _lot_ of historical cruft, bad practices that have easy solutions today but are still propagated.\n",
    "\n",
    "We will split our focus into two situations, then pull both ideas together."
   ]
  },
  {
   "cell_type": "markdown",
   "metadata": {},
   "source": [
    "## Installing a package\n",
    "\n",
    "You will see two _very_ common recommendations:\n",
    "    \n",
    "```bash\n",
    "pip install <package>         # Use only in virtual environment!\n",
    "pip install --user <package>  # Almost never use\n",
    "```\n",
    "\n",
    "Don't use them unless you know exactly what you are doing! The first one will try to install globally, and if you don't have permission, will install to your user site packages (as of a recent pip update). In global site packages, you can get conflicting versions of libraries, you can't tell what you've installed for what, it's a mess. And user site packages are worse, because all installs of Python on your computer share it, so you might override and break things you didn't intend to.\n",
    "\n",
    "The solution depends on what you are doing:"
   ]
  },
  {
   "cell_type": "markdown",
   "metadata": {},
   "source": [
    "### Safe libraries"
   ]
  },
  {
   "cell_type": "markdown",
   "metadata": {},
   "source": [
    "There are likely a _few_ libraries (possibly one) that you just have to install globally. Go ahead, but be careful (and always use your system package manager instead if you can, like [`brew` on macOS](https://brew.sh) or the Windows ones - Linux package managers tend to be too old to use for Python libraries).\n",
    "\n",
    "Ideas for safe libraries: the other libraries you see listed in this lesson! It's likely better than bootstrapping them. In fact, you can get away with just one:"
   ]
  },
  {
   "cell_type": "markdown",
   "metadata": {},
   "source": [
    "### pipx: pip for executables!"
   ]
  },
  {
   "cell_type": "markdown",
   "metadata": {},
   "source": [
    "If you are installing an \"application\", that is, it has a script end-point and you don't expect to import it, *do not use pip*; use [pipx](https://pypa.github.io/pipx/). It will isolate it in a virtual environment, but hide all that for you, and then you'll just have an application you can use with no global/user side effects!\n",
    "\n",
    "```bash\n",
    "pip install pipx  # Easier to install like this\n",
    "\n",
    "pipx install black\n",
    "black myfile.py\n",
    "```\n",
    "\n",
    "Now you have \"black\", but nothing has changed in your global site packages! You cannot import black or any of it's dependencies! There are no conflicting requirements (more common in pip 20.3+, which now will refuse to install two packages that have incompatible requirements)."
   ]
  },
  {
   "cell_type": "markdown",
   "metadata": {},
   "source": [
    "#### Directly running applications"
   ]
  },
  {
   "cell_type": "markdown",
   "metadata": {},
   "source": [
    "Pipx also has a very powerful feature: you can install and run an application in a temporary environment!\n",
    "\n",
    "For example, this works just as well as the second two lines above:\n",
    "\n",
    "```bash\n",
    "pipx run black myfile.py\n",
    "```\n",
    "\n",
    "The first time you do this, pipx create a venv and puts black in it, then runs it. If you run it again, it will reuse the cached environment if it hasn't been cleaned up yet, so it's fast.\n",
    "\n",
    "Another example:\n",
    "\n",
    "```bash\n",
    "pipx run build\n",
    "```\n",
    "\n",
    "> This is great for CI! Pipx is installed by default in GitHub Actions (GHA); you do not need `actions/setup-python` to run it.\n",
    "\n",
    "If the command and the package have different names, then you may have to write this with a `--spec`, though pipx has a way to customize this, and it will try to guess if there's only one command in the package. You can also pin exactly, specify extras, etc:\n",
    "\n",
    "```bash\n",
    "pipx run --spec cibuildwheel==2.14.1 cibuildwheel --platform linux\n",
    "```"
   ]
  },
  {
   "cell_type": "markdown",
   "metadata": {},
   "source": [
    "### Environment tools"
   ]
  },
  {
   "cell_type": "markdown",
   "metadata": {},
   "source": [
    "There are other tools we are about to talk about, like `virtualenv`, `poetry`, `pipenv`, `nox`, `tox`, etc. that you could also install with `pip` (or better yet, with `pipx`), and are _not too_ likely to interfere or break down if you use `pip`. But keep it to a minimum or use `pipx`."
   ]
  },
  {
   "cell_type": "markdown",
   "metadata": {},
   "source": [
    "### Nox and Tox"
   ]
  },
  {
   "cell_type": "markdown",
   "metadata": {},
   "source": [
    "You can also use a task runner tool like `nox` or `tox`. These create and manage virtual environment for each task (called sessions in `nox`). This is a very simple way to avoid making and entering an environment, and is great for less common tasks, like scripts and docs."
   ]
  },
  {
   "cell_type": "markdown",
   "metadata": {},
   "source": [
    "### Python launcher"
   ]
  },
  {
   "cell_type": "markdown",
   "metadata": {},
   "source": [
    "The Python launcher for Unix (a Rust port of the one bundled with Python on Windows by a Python core developer) supports virtual environments in a `.venv` folder. So if you make a virtual environment with `python -m venv .venv` or `virtualenv .venv`, then you can just run `py <stuff>` instead of `python <stuff>` and it uses the virtual environment for you. This feature has not been back-ported to the Windows version yet."
   ]
  },
  {
   "cell_type": "markdown",
   "metadata": {},
   "source": [
    "## Environments"
   ]
  },
  {
   "cell_type": "markdown",
   "metadata": {},
   "source": [
    "There are several environment systems available for Python, and they generally come in two categories. The Python Packaging Authority supports PyPI (Python Package Index), and all the systems except one build on this (usually by pip somewhere). The lone exception is Conda, which has a completely separate set of packages (often but not always with matching names)."
   ]
  },
  {
   "cell_type": "markdown",
   "metadata": {},
   "source": [
    "### Environment specification"
   ]
  },
  {
   "cell_type": "markdown",
   "metadata": {},
   "source": [
    "All systems have an environment specification, something like this:\n",
    "\n",
    "```\n",
    "requests\n",
    "rich >=9.8\n",
    "```\n",
    "\n",
    "This is technically a valid `requirements.txt` file. If you wanted to use it, you would do:\n",
    "\n",
    "\n",
    "```bash\n",
    "python3 -m venv venv\n",
    ". venv/bin/activate\n",
    "pip install -r requirements.txt\n",
    "```\n",
    "Use `deactivate` to \"leave\" the virtual environment.\n",
    "\n",
    "These two tools (venv to isolate a virtual environment) and the requirements file let you set up non-interacting places to work for each project, and you can set up again anywhere."
   ]
  },
  {
   "cell_type": "markdown",
   "metadata": {},
   "source": [
    "### Locking an environment"
   ]
  },
  {
   "cell_type": "markdown",
   "metadata": {},
   "source": [
    "But now you want to share your environment with someone else. But let's say `rich` updated and now something doesn't work. You have a working environment (until you update), but your friend does not, theirs installed broken (this just happened to me with `IPython` and `jedi`, by the way). How do you recover a working version without going back to your computer? With a lock file! This would look something like this:\n",
    "\n",
    "```\n",
    "requests ==2.25.1\n",
    "rich ==9.8.0\n",
    "typing-extensions ==3.7.4\n",
    "...\n",
    "```\n",
    "\n",
    "This file lists all installed packages with exact versions, so now you can restore your environment if you need to. However, managing these by hand is not ideal and easy to forget. If you like this, `pdm`, `poetry`, and `pipenv`. You can look into it off-line, but we are moving on. We'll encounter this idea again."
   ]
  },
  {
   "cell_type": "markdown",
   "metadata": {},
   "source": [
    "### Dev environments or Extras"
   ]
  },
  {
   "cell_type": "markdown",
   "metadata": {},
   "source": [
    "Some environment tools have the idea of a \"dev\" environment, or optional components to the environment that you can ask for. Look for them wherever fine environments are made.\n",
    "\n",
    "When you install a package via pip or any of the (non-locked) methods, you can also ask for \"extras\", though you have to know about them beforehand. For example, `pip install rich[jupyter]` will add some extra requirements for interacting with notebooks. *These add requirements only*, you can't change the package with an extra."
   ]
  },
  {
   "cell_type": "markdown",
   "metadata": {},
   "source": [
    "### Conda environments"
   ]
  },
  {
   "cell_type": "markdown",
   "metadata": {},
   "source": [
    "If you use Conda, the environment file is called `environment.yaml`. The one we are using can be seen here:"
   ]
  },
  {
   "cell_type": "code",
   "execution_count": null,
   "metadata": {
    "tags": [
     "remove-cell"
    ]
   },
   "outputs": [],
   "source": [
    "# WebAssembly version using Pyodide!\n",
    "# The following code is specific to the Pyodide backend.\n",
    "\n",
    "import sys\n",
    "\n",
    "if sys.platform.startswith(\"emscripten\"):\n",
    "    import micropip\n",
    "\n",
    "    await micropip.install(\"rich\")"
   ]
  },
  {
   "cell_type": "code",
   "execution_count": null,
   "metadata": {},
   "outputs": [],
   "source": [
    "import rich\n",
    "from rich.syntax import Syntax\n",
    "from pathlib import Path\n",
    "\n",
    "filepath = Path(\"../environment.yml\")\n",
    "rich.print(Syntax(filepath.read_text(), \"yaml\", theme=\"default\"))"
   ]
  },
  {
   "cell_type": "markdown",
   "metadata": {},
   "source": [
    "You can specify pip dependencies, too:\n",
    "\n",
    "```yaml\n",
    "- pip:\n",
    "    - i_couldnt_think_of_a_library_missing_from_conda\n",
    "```"
   ]
  }
 ],
 "metadata": {
  "kernelspec": {
   "display_name": "conda-env-level-up-your-python-py",
   "language": "python",
   "name": "conda-env-level-up-your-python-py"
  },
  "language_info": {
   "codemirror_mode": {
    "name": "ipython",
    "version": 3
   },
   "file_extension": ".py",
   "mimetype": "text/x-python",
   "name": "python",
   "nbconvert_exporter": "python",
   "pygments_lexer": "ipython3",
   "version": "3.10.5"
  },
  "toc-autonumbering": false,
  "toc-showmarkdowntxt": false,
  "toc-showtags": false
 },
 "nbformat": 4,
 "nbformat_minor": 4
}

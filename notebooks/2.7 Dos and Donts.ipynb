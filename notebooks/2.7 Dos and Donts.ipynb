{
 "cells": [
  {
   "cell_type": "markdown",
   "id": "extra-rental",
   "metadata": {},
   "source": [
    "# Do's and Don'ts\n",
    "\n",
    "Let's cover some patterns and antipatterns to help you improve your designs."
   ]
  },
  {
   "cell_type": "markdown",
   "id": "sporting-match",
   "metadata": {},
   "source": [
    "## Functions\n",
    "\n",
    "### Don't put functions in functions"
   ]
  },
  {
   "cell_type": "markdown",
   "id": "great-michael",
   "metadata": {},
   "source": [
    "Functions _can_ be defined in other functions in Python. But because you can do something does not mean you should."
   ]
  },
  {
   "cell_type": "code",
   "execution_count": 2,
   "id": "quick-roller",
   "metadata": {},
   "outputs": [],
   "source": [
    "def my_confusing_function():\n",
    "    something_important = 42\n",
    "    \n",
    "    def inner_function(x):\n",
    "        return x * something_important\n",
    "    \n",
    "    something_important = 7\n",
    "    \n",
    "    return inner_function(2)"
   ]
  },
  {
   "cell_type": "code",
   "execution_count": 3,
   "id": "practical-wellington",
   "metadata": {},
   "outputs": [
    {
     "name": "stdout",
     "output_type": "stream",
     "text": [
      "14\n"
     ]
    }
   ],
   "source": [
    "print(my_confusing_function())"
   ]
  },
  {
   "cell_type": "markdown",
   "id": "agreed-truth",
   "metadata": {},
   "source": [
    "But this is _bad_, don't do it. For one, this breaks the flow of the function and adds unneccisary nesting. When reading a function definition, you should see code, not more function definitions. More importantly, it breaks encapuslation; a function in a function _can_ capture the outer function's scope. When you place a function within a function, the reader has to go through it, line by line, and see what variables are captured, if any. And Python’s scoping rules are evil - even the author of Python finds them hard sometimes [(see his recent tweet)](https://twitter.com/gvanrossum/status/1354305179244392453?s=20) (classes in functions or classes are _really_ bad due to some weird scoping rules for classes - hoping I don't need to tell you that!).\n",
    "\n",
    "There is one valid place to do a function in a function - that's for wrappers, specifically decorators. But that is the _point_ of the outer function; it's not doing anything else but wrapping an inner function. And, in general, they are often more readable as classes with a `__call__` anyway, so you might not even want the function-in-function form even in this case.\n",
    "\n",
    "There are _very_ rare cases where you might want to define a function inside a function if you specifically _have_ to capture a variable - but you never _really_ have to capture a variable - use `functools.partial` instead if you have an API that takes a function and you need to provide the right signature. \n",
    "\n",
    "A one line \"named lambda\" function _might_ be an exception - but I think it’s still clearer to make it a helper. Use underscore names if you want to indicate that it’s not for external use. This is Python specific - C++ lambdas have an explicit capture specification that is a lot better.\n",
    "\n",
    "If you want a private helper function, just put an underscore at the front of the helper function.\n",
    "\n",
    "Here's a possible rewrite for the example above:"
   ]
  },
  {
   "cell_type": "code",
   "execution_count": 8,
   "id": "together-freeware",
   "metadata": {},
   "outputs": [],
   "source": [
    "def _helper_function(something_important, x):\n",
    "    return x * something_important\n",
    "\n",
    "def my_better_function():\n",
    "    something_important = 42\n",
    "      \n",
    "    something_important = 7\n",
    "    \n",
    "    return _helper_function(something_important, 2)"
   ]
  },
  {
   "cell_type": "code",
   "execution_count": 11,
   "id": "dried-sheep",
   "metadata": {},
   "outputs": [
    {
     "name": "stdout",
     "output_type": "stream",
     "text": [
      "14\n"
     ]
    }
   ],
   "source": [
    "print(my_better_function())"
   ]
  },
  {
   "cell_type": "markdown",
   "id": "dietary-senator",
   "metadata": {},
   "source": [
    "What if you had an API that required a function with one variable? Use `functools.partial` or a lambda for the capture, not a function in a function. It's much clearer that you are doing something speical, and the interface to the helper function is still completely explicit, with no hidden capture:"
   ]
  },
  {
   "cell_type": "code",
   "execution_count": 14,
   "id": "chief-daily",
   "metadata": {},
   "outputs": [
    {
     "name": "stdout",
     "output_type": "stream",
     "text": [
      "84\n"
     ]
    }
   ],
   "source": [
    "import functools\n",
    "\n",
    "def _helper_function(something_important, x):\n",
    "    return x * something_important\n",
    "\n",
    "def my_other_function():\n",
    "    something_important = 42\n",
    "      \n",
    "    inner_function = functools.partial(_helper_function, something_important)\n",
    "    \n",
    "    something_important = 7\n",
    "    \n",
    "    return inner_function(2)\n",
    "\n",
    "print(my_other_function())"
   ]
  },
  {
   "cell_type": "markdown",
   "id": "funny-friday",
   "metadata": {},
   "source": [
    "Notice how this actually prints the value exactly at the point of capture, rather than having a shared namespace. The API of `_helper_function` is still completely explicit, with no hidden capture; you don't need to look around to see what it takes as arguments, you just look at the argument list."
   ]
  },
  {
   "cell_type": "markdown",
   "id": "rolled-darwin",
   "metadata": {},
   "source": [
    "### Don't have giant functions\n",
    "\n",
    "Don’t have mega-functions that do too much. Factor out the work as much as you can. It's better for unit testing, it's better for reasoning what each piece does, it is easier to read smaller chunks. Don't go over board and make a ton of one line functions; look for coherent, clear concepts. 10-20 lines should be the max for most functions. "
   ]
  },
  {
   "cell_type": "markdown",
   "id": "governing-trouble",
   "metadata": {},
   "source": [
    "### Do consider using classes instead of functions\n",
    "If you have something really complicated, it’s okay to use a class. You want to offload structural work to the language; then the type checker can help you with it, etc. If you find yourself needing to capture often or have long argument lists (internally), this might be a much more explicit, readable, and clear alternative."
   ]
  },
  {
   "cell_type": "markdown",
   "id": "centered-ground",
   "metadata": {},
   "source": [
    "## Types"
   ]
  },
  {
   "cell_type": "markdown",
   "id": "starting-makeup",
   "metadata": {},
   "source": [
    "## Do factor into common types\n",
    "\n",
    "Try to normalize to a common type instead of handling differing types everywhere. If you support a list of items or a single idem, write a function that works on lists of items, then call with with `[item]` if a single item is passed. The quicker you reduce a complicated Union of types down to a single type, the better.\n",
    "\n",
    "Also, try to avoid using tightly constrainted types; when typing, try to accept the most general type. This exposes a common issue; if your \"item\" is Iterable, you'll have to be very specific and differenciate between lists and other types of iterables; this is generally bad API and should be avoided if possible. It is baked into a few places, including `__getitem__` for many classes; NumPy differenciates between `a[(1,2)]` and `a[[1,2]]`. But try to avoid making a similar mistake if possible."
   ]
  },
  {
   "cell_type": "markdown",
   "id": "armed-fundamental",
   "metadata": {},
   "source": [
    "## Other"
   ]
  },
  {
   "cell_type": "markdown",
   "id": "mediterranean-croatia",
   "metadata": {},
   "source": [
    "## Do use lots of files\n",
    "\n",
    "Break things up into more files. Files should have roughly one class and its helpers, or one major function and its helpers, or a collection of related functions. Then you can import from it. You'll often end up with a `utils.py`, but don't put everything into it. Remember: programming is about orginization, and your file structure is an important part of that orginization. If you have trouble navigating around, invest some time in a good editor. Even the GitHub viewer now jumps to definitions when you click Python functions, and PyCharm, Visual Studio Code, and more have fast navigation; classic editors have plugins that help with navigation too."
   ]
  }
 ],
 "metadata": {
  "kernelspec": {
   "display_name": "conda-env-level-up-your-python-py",
   "language": "python",
   "name": "conda-env-level-up-your-python-py"
  },
  "language_info": {
   "codemirror_mode": {
    "name": "ipython",
    "version": 3
   },
   "file_extension": ".py",
   "mimetype": "text/x-python",
   "name": "python",
   "nbconvert_exporter": "python",
   "pygments_lexer": "ipython3",
   "version": "3.8.6"
  }
 },
 "nbformat": 4,
 "nbformat_minor": 5
}

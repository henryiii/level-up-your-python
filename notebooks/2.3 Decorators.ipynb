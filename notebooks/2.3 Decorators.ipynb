{
 "cells": [
  {
   "cell_type": "markdown",
   "metadata": {},
   "source": [
    "# Decorators\n",
    "\n",
    "This is likely the simplest syntactic sugar you'll see today, but maybe one with some of the furthest reaching consequences. Let's say you have a bit of code that looks like this:\n",
    "\n",
    "```python\n",
    "def f(): ...\n",
    "f = g(f)\n",
    "```\n",
    "\n",
    "So `g` is a function that takes a function and (hopefully) returns a function, probably a very similar one since you are giving it the same name as the old \"f\". In Python 2.5, we gained the ability to write this instead:\n",
    "\n",
    "```python\n",
    "@g\n",
    "def f(): ...\n",
    "```\n",
    "\n",
    "That's it. The thing after the `@` \"decorates\" (or transforms) the function you are defining and the output is saved with the name `f`."
   ]
  },
  {
   "cell_type": "code",
   "execution_count": null,
   "metadata": {},
   "outputs": [],
   "source": [
    "def bad_decorator(func):\n",
    "    print(f\"You don't need {func.__name__}!\")\n",
    "    return 2\n",
    "\n",
    "\n",
    "@bad_decorator\n",
    "def f(x):\n",
    "    return x**2"
   ]
  },
  {
   "cell_type": "code",
   "execution_count": null,
   "metadata": {},
   "outputs": [],
   "source": [
    "f"
   ]
  },
  {
   "cell_type": "markdown",
   "metadata": {},
   "source": [
    "Okay, so that's useless (well, except for the printout, which could be good for logging). What could this be used for? Turns out, almost anything. Having a syntax for \"modifying\" a function (it also works on methods and classes, too) is fantastic, and lets you think in a different way.\n",
    "\n",
    "There are several decorators in builtins, `property`, `classmethod`, and `staticmethod`. For example:"
   ]
  },
  {
   "cell_type": "code",
   "execution_count": null,
   "metadata": {},
   "outputs": [],
   "source": [
    "class BagOfFunctions:\n",
    "    @staticmethod\n",
    "    def f(x):\n",
    "        return x**2"
   ]
  },
  {
   "cell_type": "markdown",
   "metadata": {},
   "source": [
    "What's missing from the above function? Self! It's static, it doesn't need an instance, or even the current class."
   ]
  },
  {
   "cell_type": "code",
   "execution_count": null,
   "metadata": {},
   "outputs": [],
   "source": [
    "BagOfFunctions().f(2)"
   ]
  },
  {
   "cell_type": "code",
   "execution_count": null,
   "metadata": {},
   "outputs": [],
   "source": [
    "BagOfFunctions.f(2)"
   ]
  },
  {
   "cell_type": "markdown",
   "metadata": {},
   "source": [
    "The decorator took our method and added the correct handling to it so it works with or without an instance.\n",
    "\n",
    "If the thing after the `@` is called, this is called a decorator factory; it's exactly the same as above, just slightly more unusual in structure to what you normally see:\n",
    "\n",
    "```python\n",
    "def f...\n",
    "f = g()(f)\n",
    "\n",
    "# same as\n",
    "\n",
    "@g()\n",
    "def f...\n",
    "```\n",
    "\n",
    "You can also nest decorators."
   ]
  },
  {
   "cell_type": "markdown",
   "metadata": {},
   "source": [
    "You could have a rate decorator, which causes a function to wait after completing so that it always takes the same amount of time. You could have a logging decorator, which prints to a log every time the wrapped function is called. There are quite a few decorators in the standard library; we'll see more later, but here are a couple interesting ones:"
   ]
  },
  {
   "cell_type": "markdown",
   "metadata": {},
   "source": [
    "## Examples\n",
    "### Least Recently Used Caching (LRU)\n",
    "\n",
    "This is all you need to implement a cache based on the input arguments. When you call this again with recently used arguments (the cache size is adjustable), it pulls from a cache instead of rerunning the function."
   ]
  },
  {
   "cell_type": "code",
   "execution_count": null,
   "metadata": {},
   "outputs": [],
   "source": [
    "import functools\n",
    "import time\n",
    "\n",
    "\n",
    "@functools.lru_cache\n",
    "def slow(x: int) -> int:\n",
    "    time.sleep(2)\n",
    "    return x"
   ]
  },
  {
   "cell_type": "code",
   "execution_count": null,
   "metadata": {},
   "outputs": [],
   "source": [
    "slow(4)"
   ]
  },
  {
   "cell_type": "code",
   "execution_count": null,
   "metadata": {},
   "outputs": [],
   "source": [
    "slow(4)"
   ]
  },
  {
   "cell_type": "markdown",
   "metadata": {},
   "source": [
    "### Single Dispatch\n",
    "\n",
    "Another magical decorator is `functools.singledispatch`, which lets you simulate type based dispatch (but only on the first argument) from other languages:"
   ]
  },
  {
   "cell_type": "code",
   "execution_count": null,
   "metadata": {},
   "outputs": [],
   "source": [
    "@functools.singledispatch\n",
    "def square(x):\n",
    "    print(\"Not implemented\")\n",
    "\n",
    "\n",
    "@square.register\n",
    "def square_int(x: int) -> int:\n",
    "    return x**2\n",
    "\n",
    "\n",
    "@square.register\n",
    "def square_str(x: str) -> str:\n",
    "    return f\"{x}²\""
   ]
  },
  {
   "cell_type": "code",
   "execution_count": null,
   "metadata": {},
   "outputs": [],
   "source": [
    "square(2)"
   ]
  },
  {
   "cell_type": "code",
   "execution_count": null,
   "metadata": {},
   "outputs": [],
   "source": [
    "square(\"x\")"
   ]
  },
  {
   "cell_type": "markdown",
   "metadata": {},
   "source": [
    "### Other functools decorators\n",
    "\n",
    "There's also `@functools.total_ordering`, which when applied to a class, fills in the missing comparison operators from the ones that are already there (`==`, `!=`, `<`, `<=`, `>`, `>=` can be computed from just two functions)\n",
    "\n",
    "And `@functools.wraps` is a decorator that helps you write decorators that wrap functions. Also see [decorator](https://github.com/micheles/decorator) and the newer, fancier [wrapt](https://github.com/GrahamDumpleton/wrapt) libraries on PyPI."
   ]
  },
  {
   "cell_type": "markdown",
   "metadata": {},
   "source": [
    "### Dataclasses\n",
    "\n",
    "Another use case we've briefly seen is dataclasses from Python 3.7:"
   ]
  },
  {
   "cell_type": "code",
   "execution_count": null,
   "metadata": {},
   "outputs": [],
   "source": [
    "from dataclasses import dataclass\n",
    "\n",
    "\n",
    "@dataclass\n",
    "class Vector:\n",
    "    x: float\n",
    "    y: float"
   ]
  },
  {
   "cell_type": "markdown",
   "metadata": {},
   "source": [
    "This `@dataclass` is taking the class you pass in, converting the class annotations to instance variables, making an `__init__`, `__repr__`, and much more. When you are viewing a class as data + functionality, this is a very natural way to work."
   ]
  },
  {
   "cell_type": "code",
   "execution_count": null,
   "metadata": {},
   "outputs": [],
   "source": [
    "Vector(1, y=2)"
   ]
  },
  {
   "cell_type": "markdown",
   "metadata": {},
   "source": [
    "If you need Dataclasses in 3.6, there's a pip install dataclasses backport, and this was based on the popular [attrs](https://www.attrs.org/en/stable/) library, which is much more powerful and can do all sorts of tricks, like validate and transform values."
   ]
  },
  {
   "cell_type": "markdown",
   "metadata": {},
   "source": [
    "### Third party: Click\n",
    "\n",
    "[Click](https://click.palletsprojects.com/en/7.x/) is a package that lets you write command line interfaces using decorators on functions:\n",
    "\n",
    "```python\n",
    "import click\n",
    "\n",
    "@click.command()\n",
    "@click.option('--count', default=1, help='Number of greetings.')\n",
    "@click.option('--name', prompt='Your name',\n",
    "              help='The person to greet.')\n",
    "def hello(count, name):\n",
    "    \"\"\"Simple program that greets NAME for a total of COUNT times.\"\"\"\n",
    "    for x in range(count):\n",
    "        click.echo('Hello %s!' % name)\n",
    "\n",
    "if __name__ == '__main__':\n",
    "    hello()\n",
    "```"
   ]
  },
  {
   "cell_type": "markdown",
   "metadata": {},
   "source": [
    "We'll see more decorators, don't worry!"
   ]
  }
 ],
 "metadata": {
  "kernelspec": {
   "display_name": "Python [conda env:level-up-your-python] *",
   "language": "python",
   "name": "conda-env-level-up-your-python-py"
  },
  "language_info": {
   "codemirror_mode": {
    "name": "ipython",
    "version": 3
   },
   "file_extension": ".py",
   "mimetype": "text/x-python",
   "name": "python",
   "nbconvert_exporter": "python",
   "pygments_lexer": "ipython3",
   "version": "3.10.5"
  },
  "toc-autonumbering": false,
  "toc-showmarkdowntxt": false,
  "toc-showtags": false
 },
 "nbformat": 4,
 "nbformat_minor": 4
}
